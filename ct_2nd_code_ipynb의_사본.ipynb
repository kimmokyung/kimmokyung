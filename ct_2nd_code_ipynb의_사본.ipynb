{
  "nbformat": 4,
  "nbformat_minor": 0,
  "metadata": {
    "colab": {
      "provenance": [],
      "include_colab_link": true
    },
    "kernelspec": {
      "name": "python3",
      "display_name": "Python 3"
    },
    "language_info": {
      "name": "python"
    }
  },
  "cells": [
    {
      "cell_type": "markdown",
      "metadata": {
        "id": "view-in-github",
        "colab_type": "text"
      },
      "source": [
        "<a href=\"https://colab.research.google.com/github/kimmokyung/kimmokyung/blob/main/ct_2nd_code_ipynb%EC%9D%98_%EC%82%AC%EB%B3%B8.ipynb\" target=\"_parent\"><img src=\"https://colab.research.google.com/assets/colab-badge.svg\" alt=\"Open In Colab\"/></a>"
      ]
    },
    {
      "cell_type": "markdown",
      "source": [
        "2. 사용자로부터 3개의 변수를 입력 받아서 합을 구하고, 평균을 구하는 코드\n",
        " - 변수는:n1,n2,n3,total,average"
      ],
      "metadata": {
        "id": "ORnpQ-HCoC3m"
      }
    },
    {
      "cell_type": "code",
      "source": [
        "n1 = int(input(\"n1의 값을 입력하시오.: \"))\n",
        "n2 = int(input(\"n2의 값을 입력하시오.: \"))\n",
        "n3 = int(input(\"n3의 값을 입력하시오.: \"))\n",
        "total = n1 + n2 + n3\n",
        "print('합계는:', total)\n",
        "average = total / 3\n",
        "print('평균은:', average)"
      ],
      "metadata": {
        "colab": {
          "base_uri": "https://localhost:8080/"
        },
        "id": "roXOhH4StMVp",
        "outputId": "855fa13f-0993-42bf-a5cc-e86e2ee4e8bf"
      },
      "execution_count": null,
      "outputs": [
        {
          "output_type": "stream",
          "name": "stdout",
          "text": [
            "n1의 값을 입력하시오.: 50\n",
            "n2의 값을 입력하시오.: 60\n",
            "n3의 값을 입력하시오.: 70\n",
            "합계는: 180\n",
            "평균은: 60.0\n"
          ]
        }
      ]
    }
  ]
}