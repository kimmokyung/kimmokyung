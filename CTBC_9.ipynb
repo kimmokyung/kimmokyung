{
  "nbformat": 4,
  "nbformat_minor": 0,
  "metadata": {
    "colab": {
      "provenance": [],
      "authorship_tag": "ABX9TyOgZF7ic89PEX/pFNoUytt5",
      "include_colab_link": true
    },
    "kernelspec": {
      "name": "python3",
      "display_name": "Python 3"
    },
    "language_info": {
      "name": "python"
    }
  },
  "cells": [
    {
      "cell_type": "markdown",
      "metadata": {
        "id": "view-in-github",
        "colab_type": "text"
      },
      "source": [
        "<a href=\"https://colab.research.google.com/github/kimmokyung/kimmokyung/blob/main/CTBC_9.ipynb\" target=\"_parent\"><img src=\"https://colab.research.google.com/assets/colab-badge.svg\" alt=\"Open In Colab\"/></a>"
      ]
    },
    {
      "cell_type": "markdown",
      "source": [
        "1. 두 가지 이상의 선택, 다방향 선택구조 코딩\n",
        " - 배송료 처리 3가지로 코딩\n",
        " - 변수 : price\n",
        " - 조건 : 10만원 이상 배송비 0.2만원이상은 3천원, 2만원 이하면 5천원"
      ],
      "metadata": {
        "id": "fbTziHgUr3AA"
      }
    },
    {
      "cell_type": "code",
      "source": [
        "price = int(input(\"구입금액 입력: \"))                                            # 변수 price 사용자가 정수형 금액입력\n",
        "if price >= 100000:                                                              # price의 값이 10만원보다 크거나 같으면\n",
        "   shipping_cost = 0                                                             # 선택1. 배송료(shipping_cost)는 0원\n",
        "else:                                                                            # 그게 아니면\n",
        "   if price >= 20000:                                                            # 선택2. price값이 2만원보다 크거나 같으면\n",
        "     shipping_cost = 3000                                                        # 배송료(shipping_cost)는 3000원\n",
        "   else:                                                                         # 그것도 아니면\n",
        "    shipping_cost = 5000                                                         # 선택3. 배송료(shipping_cost)는 5000원\n",
        "print(f'배송료는 {shipping_cost}원 입니다.')                                     # f-string문자 format으로 최종 배송료 출력"
      ],
      "metadata": {
        "colab": {
          "base_uri": "https://localhost:8080/"
        },
        "id": "4y8o24E6sWZ0",
        "outputId": "2e66ecda-3630-43f4-b4d5-745dc763d26d"
      },
      "execution_count": null,
      "outputs": [
        {
          "output_type": "stream",
          "name": "stdout",
          "text": [
            "구입금액 입력: 5000\n",
            "배송료는 5000원 입니다.\n"
          ]
        }
      ]
    },
    {
      "cell_type": "markdown",
      "source": [
        "위 코드는 다음과 같은 동작을 수행합니다:\n",
        "\n",
        "price = int(input(\"구입금액 입력: \"))를 통해 사용자로부터 구입금액을 입력받고, 입력받은 값을 int() 함수를 사용하여 정수형으로 변환하여 price 변수에 저장합니다.\n",
        "if price >= 100000:를 사용하여 입력받은 구입금액이 100,000원 이상인지를 판별합니다.\n",
        "shipping_cost = 0을 사용하여 배송료를 0원으로 설정합니다.\n",
        "else:를 사용하여 입력받은 구입금액이 100,000원 미만인 경우를 판별합니다.\n",
        "if price >= 20000:를 사용하여 입력받은 구입금액이 20,000원 이상인지를 판별합니다.\n",
        "shipping_cost = 3000을 사용하여 배송료를 3,000원으로 설정합니다.\n",
        "else:를 사용하여 입력받은 구입금액이 20,000원 미만인 경우를 판별합니다.\n",
        "shipping_cost = 5000을 사용하여 배송료를 5,000원으로 설정합니다.\n",
        "print(f'배송료는 {shipping_cost}원 입니다.')를 사용하여 배송료를 출력합니다.\n",
        "따라서 위 코드를 실행하면 사용자로부터 입력받은 구입금액에 따라 배송료가 계산되고 출력됩니다. 구입금액이 100,000원 이상인 경우 배송료는 0원이고, 20,000원 이상인 경우 배송료는 3,000원, 그 이하인 경우 배송료는 5,000원입니다."
      ],
      "metadata": {
        "id": "yljzgC_M2fbR"
      }
    },
    {
      "cell_type": "markdown",
      "source": [
        "2. 반복구조를 이용한 \"환영합니다.\"를 5번 출력하는 코드 작성\n",
        " - 변수 : welcome\n",
        " - 출력내용 : 환영합니다.를 새로운 5번,10번,30번"
      ],
      "metadata": {
        "id": "pGnc-qtbyqU9"
      }
    },
    {
      "cell_type": "code",
      "source": [
        "# \"환영합니다.\"라는 메시지를 출력합니다. 동일한 메시지를 총 5번 출력하도록 코드를 5번 반복합니다.\n",
        "print(\"환영합니다. \")\n",
        "print(\"환영합니다. \")\n",
        "print(\"환영합니다. \")\n",
        "print(\"환영합니다. \")\n",
        "print(\"환영합니다. \")"
      ],
      "metadata": {
        "colab": {
          "base_uri": "https://localhost:8080/"
        },
        "id": "p8nW3qY-y7Vg",
        "outputId": "b641dce7-6b14-44f4-bfbd-1b0ae6ceefcf"
      },
      "execution_count": null,
      "outputs": [
        {
          "output_type": "stream",
          "name": "stdout",
          "text": [
            "환영합니다. \n",
            "환영합니다. \n",
            "환영합니다. \n",
            "환영합니다. \n",
            "환영합니다. \n"
          ]
        }
      ]
    },
    {
      "cell_type": "markdown",
      "source": [],
      "metadata": {
        "id": "Uq5CFA6G2zNM"
      }
    },
    {
      "cell_type": "markdown",
      "source": [
        "위 코드는 다음과 같은 동작을 수행합니다:\n",
        "\n",
        "print(\"환영합니다.\")를 사용하여 \"환영합니다.\"라는 메시지를 출력합니다.\n",
        "동일한 메시지를 총 5번 출력하도록 위의 코드를 5번 반복합니다."
      ],
      "metadata": {
        "id": "wIzCce782qJx"
      }
    },
    {
      "cell_type": "code",
      "source": [
        "print(\"환영합니다.\\n\"*5)          # \"환영합니다.\"라는 메시지와 줄바꿈 문자(\\n)를 결합한 문자열을 생성합니다. 위 문자열을 5번 반복하여 출력합니다."
      ],
      "metadata": {
        "colab": {
          "base_uri": "https://localhost:8080/"
        },
        "id": "eC3gUWySzLrl",
        "outputId": "ca9d8c68-0f29-4624-a2bf-30bbaa03db6b"
      },
      "execution_count": null,
      "outputs": [
        {
          "output_type": "stream",
          "name": "stdout",
          "text": [
            "환영합니다.\n",
            "환영합니다.\n",
            "환영합니다.\n",
            "환영합니다.\n",
            "환영합니다.\n",
            "\n"
          ]
        }
      ]
    },
    {
      "cell_type": "markdown",
      "source": [
        "위 코드는 다음과 같은 동작을 수행합니다:\n",
        "\n",
        "\"환영합니다.\\n\"을 사용하여 \"환영합니다.\"라는 메시지와 줄바꿈 문자(\\n)를 결합한 문자열을 생성합니다.\n",
        "위 문자열을 5번 반복하여 출력합니다."
      ],
      "metadata": {
        "id": "8Jqi6f4B24Nh"
      }
    },
    {
      "cell_type": "code",
      "source": [
        "count = 0                                       # 변수 count를 0으로 초기화합니다.\n",
        "while count <= 5:                               # count가 5 이하인 동안 반복합니다.\n",
        "  print(\"(\", count, \")\",\"환영합니다. \")         # 현재 count 값을 출력하고, \"환영합니다.\"라는 메시지를 출력합니다.\n",
        "  count = count + 1                             # count 값을 1씩 증가시킵니다. 반복이 종료되면 프로그램이 종료됩니다."
      ],
      "metadata": {
        "colab": {
          "base_uri": "https://localhost:8080/"
        },
        "id": "QgaSzDVrznY1",
        "outputId": "01036fec-4bec-42b1-95f8-80e572399edc"
      },
      "execution_count": null,
      "outputs": [
        {
          "output_type": "stream",
          "name": "stdout",
          "text": [
            "( 0 ) 환영합니다. \n",
            "( 1 ) 환영합니다. \n",
            "( 2 ) 환영합니다. \n",
            "( 3 ) 환영합니다. \n",
            "( 4 ) 환영합니다. \n",
            "( 5 ) 환영합니다. \n"
          ]
        }
      ]
    },
    {
      "cell_type": "markdown",
      "source": [
        "위 코드는 다음과 같은 동작을 수행합니다:\n",
        "\n",
        "count = 0을 사용하여 변수 count를 0으로 초기화합니다.\n",
        "while count <= 5:를 사용하여 count가 5 이하인 동안 반복합니다.\n",
        "print(\"(\", count, \")\", \"환영합니다.\")를 사용하여 현재 count 값을 출력하고, \"환영합니다.\"라는 메시지를 출력합니다.\n",
        "count = count + 1을 사용하여 count 값을 1씩 증가시킵니다.\n",
        "반복이 종료되면 프로그램이 종료됩니다."
      ],
      "metadata": {
        "id": "uBISTHhW3Ef0"
      }
    },
    {
      "cell_type": "markdown",
      "source": [
        "3.0부터 9까지 출력하는 코드 작성\n",
        " - 변수:x"
      ],
      "metadata": {
        "id": "rIx_8rV41j0V"
      }
    },
    {
      "cell_type": "code",
      "source": [
        "x = 0                                   # 변수 x를 0으로 초기화합니다.\n",
        "while x < 10:                           # x가 10보다 작은 동안 반복합니다.\n",
        "   #print(x)                            # print(x)는 주석 처리되어 있으므로 해당 줄은 실행되지 않습니다.\n",
        "   print(x, end= ' ')                   # 현재 x 값을 출력하고, 출력 후에 공백 문자를 붙여서 출력합니다.\n",
        "   x = x + 1                            # x = x + 1을 사용하여 x 값을 1씩 증가시킵니다. 반복이 종료되면 프로그램이 종료됩니다."
      ],
      "metadata": {
        "colab": {
          "base_uri": "https://localhost:8080/"
        },
        "id": "uaOfaK031rTF",
        "outputId": "c5d40426-63c4-4d20-c3c1-eb91f2cc59a8"
      },
      "execution_count": null,
      "outputs": [
        {
          "output_type": "stream",
          "name": "stdout",
          "text": [
            "0 1 2 3 4 5 6 7 8 9 "
          ]
        }
      ]
    },
    {
      "cell_type": "markdown",
      "source": [
        "위 코드는 다음과 같은 동작을 수행합니다:\n",
        "\n",
        "x = 0을 사용하여 변수 x를 0으로 초기화합니다.\n",
        "while x < 10:를 사용하여 x가 10보다 작은 동안 반복합니다.\n",
        "print(x)는 주석 처리되어 있으므로 해당 줄은 실행되지 않습니다.\n",
        "print(x, end=' ')를 사용하여 현재 x 값을 출력하고, 출력 후에 공백 문자를 붙여서 출력합니다. end=' '는 print() 함수의 인자로 사용되어 출력이 끝난 후 다음 출력이 같은 줄에 이어지도록 설정합니다.\n",
        "x = x + 1을 사용하여 x 값을 1씩 증가시킵니다.\n",
        "반복이 종료되면 프로그램이 종료됩니다."
      ],
      "metadata": {
        "id": "VC4sW_vr3ZI9"
      }
    },
    {
      "cell_type": "markdown",
      "source": [
        "4. 1부터 10까지 합산하는 코드 작성"
      ],
      "metadata": {
        "id": "7ffY29Sb3FNW"
      }
    },
    {
      "cell_type": "code",
      "source": [
        "x = 1                         # 변수 x를 1로 초기화합니다.\n",
        "total = 0                     # 변수 total을 0으로 초기화합니다.\n",
        "while x <= 10:                # x가 10 이하인 동안 반복합니다.\n",
        "  total = total + x           # x 값을 total에 더합니다.\n",
        "  #x = x + 1\n",
        "  #x += 1\n",
        "  x +=1                       # x += 1을 사용하여 x 값을 1씩 증가시킵니다.\n",
        "print(total)                  # total 값을 출력합니다."
      ],
      "metadata": {
        "colab": {
          "base_uri": "https://localhost:8080/"
        },
        "id": "rFKqkVMX3JBB",
        "outputId": "9e597f9b-a75f-4282-a011-2b904945c228"
      },
      "execution_count": null,
      "outputs": [
        {
          "output_type": "stream",
          "name": "stdout",
          "text": [
            "55\n"
          ]
        }
      ]
    },
    {
      "cell_type": "markdown",
      "source": [
        "위 코드는 다음과 같은 동작을 수행합니다:\n",
        "\n",
        "x = 1을 사용하여 변수 x를 1로 초기화합니다.\n",
        "total = 0을 사용하여 변수 total을 0으로 초기화합니다.\n",
        "while x <= 10:를 사용하여 x가 10 이하인 동안 반복합니다.\n",
        "total = total + x를 사용하여 x 값을 total에 더합니다.\n",
        "x += 1을 사용하여 x 값을 1씩 증가시킵니다.\n",
        "반복이 종료되면 print(total)을 사용하여 total 값을 출력합니다."
      ],
      "metadata": {
        "id": "edXDv3nt31qj"
      }
    },
    {
      "cell_type": "markdown",
      "source": [
        "5. 3-6-9 게임(3의 배수 판단): 3의 배수를 3으로 나누면 나머지가 0이 되므로(i mod 3)의 값이 0이면 박수를 출력, 아니면 숫자 출력하는 코드"
      ],
      "metadata": {
        "id": "Pk0kD_Z_4K8t"
      }
    },
    {
      "cell_type": "code",
      "source": [
        "for num in range(1, 21):                      # 1부터 20까지의 숫자를 반복적으로 가져옵니다.\n",
        "  #만약 num이 3의 배수라면, \"박수\"를 출력하고, 출력 후에 공백 문자를 붙여서 출력합니다.\n",
        "  if num % 3 == 0:                            # 현재 숫자 num이 3의 배수인지 확인합니다.\n",
        "    print(\"박수\", end=' ')\n",
        "  else:\n",
        "      #만약 num이 3의 배수가 아니라면, 숫자 num을 출력하고, 출력 후에 공백 문자를 붙여서 출력합니다. 반복이 종료되면 프로그램이 종료됩니다.\n",
        "      print(num, end=' ')"
      ],
      "metadata": {
        "colab": {
          "base_uri": "https://localhost:8080/"
        },
        "id": "S1sl9OKg4mQO",
        "outputId": "c57afe70-b2dc-4a65-a355-3b8800773183"
      },
      "execution_count": null,
      "outputs": [
        {
          "output_type": "stream",
          "name": "stdout",
          "text": [
            "1 2 박수 4 5 박수 7 8 박수 10 11 박수 13 14 박수 16 17 박수 19 20 "
          ]
        }
      ]
    },
    {
      "cell_type": "markdown",
      "source": [
        "위 코드는 다음과 같은 동작을 수행합니다:\n",
        "\n",
        "for num in range(1, 21):을 사용하여 1부터 20까지의 숫자를 반복적으로 가져옵니다.\n",
        "if num % 3 == 0:을 사용하여 현재 숫자 num이 3의 배수인지 확인합니다.\n",
        "만약 num이 3의 배수라면, \"박수\"를 출력하고, 출력 후에 공백 문자를 붙여서 출력합니다. end=' '는 print() 함수의 인자로 사용되어 출력이 끝난 후 다음 출력이 같은 줄에 이어지도록 설정합니다.\n",
        "만약 num이 3의 배수가 아니라면, 숫자 num을 출력하고, 출력 후에 공백 문자를 붙여서 출력합니다.\n",
        "반복이 종료되면 프로그램이 종료됩니다.\n",
        "따라서 위 코드를 실행하면 1부터 20까지의 숫자를 검사하여 3의 배수인 경우에는 \"박수\"를 출력하고, 그렇지 않은 경우에는 해당 숫자를 출력합니다."
      ],
      "metadata": {
        "id": "GHEEe_Z04OlP"
      }
    },
    {
      "cell_type": "code",
      "source": [
        "num = 1                       # 변수 num을 1로 초기화합니다.\n",
        "while num <= 20:              # num이 20 이하인 동안 반복합니다.\n",
        "  # 만약 num이 3의 배수라면, \"박수\"를 출력하고, 출력 후에 공백 문자를 붙여서 출력합니다. end=' '는 print() 함수의 인자로 사용되어 출력이 끝난 후 다음 출력이 같은 줄에 이어지도록 설정합니다.\n",
        "  if num % 3 == 0:            # 현재 숫자 num이 3의 배수인지 확인합니다.\n",
        "    print(\"박수\", end=' ')\n",
        "  else:\n",
        "    # 만약 num이 3의 배수가 아니라면, 숫자 num을 출력하고, 출력 후에 공백 문자를 붙여서 출력합니다. num += 1을 사용하여 num 값을 1씩 증가시킵니다.\n",
        "    print(num, end=' ')\n",
        "  num += 1        # num 값을 1씩 증가시킵니다. 반복이 종료되면 프로그램이 종료됩니다."
      ],
      "metadata": {
        "colab": {
          "base_uri": "https://localhost:8080/"
        },
        "id": "E6_lgYPz5S-o",
        "outputId": "07e64270-84d6-4bd4-84a6-dab24cf30866"
      },
      "execution_count": null,
      "outputs": [
        {
          "output_type": "stream",
          "name": "stdout",
          "text": [
            "1 2 박수 4 5 박수 7 8 박수 10 11 박수 13 14 박수 16 17 박수 19 20 "
          ]
        }
      ]
    },
    {
      "cell_type": "markdown",
      "source": [
        "위 코드는 다음과 같은 동작을 수행합니다:\n",
        "\n",
        "num = 1을 사용하여 변수 num을 1로 초기화합니다.\n",
        "while num <= 20:를 사용하여 num이 20 이하인 동안 반복합니다.\n",
        "if num % 3 == 0:을 사용하여 현재 숫자 num이 3의 배수인지 확인합니다.\n",
        "만약 num이 3의 배수라면, \"박수\"를 출력하고, 출력 후에 공백 문자를 붙여서 출력합니다. end=' '는 print() 함수의 인자로 사용되어 출력이 끝난 후 다음 출력이 같은 줄에 이어지도록 설정합니다.\n",
        "만약 num이 3의 배수가 아니라면, 숫자 num을 출력하고, 출력 후에 공백 문자를 붙여서 출력합니다.\n",
        "num += 1을 사용하여 num 값을 1씩 증가시킵니다.\n",
        "반복이 종료되면 프로그램이 종료됩니다."
      ],
      "metadata": {
        "id": "6NOnRirB4zE4"
      }
    },
    {
      "cell_type": "markdown",
      "source": [
        "6.  팩토리얼 계산하는 코드 작성\n",
        " - 1! = 1, 2!=2(1)2,3!=(3(2)(1)=6"
      ],
      "metadata": {
        "id": "iRWpNSrDb1FB"
      }
    },
    {
      "cell_type": "code",
      "source": [
        "i = 5                 # 변수 i를 5로 초기화합니다.\n",
        "factorial = 1         # 변수 factorial을 1로 초기화합니다.\n",
        "while i >= 1:         # i가 1 이상인 동안 반복합니다.\n",
        "    factorial *= i    # 현재 i 값을 factorial에 곱합니다.\n",
        "    i -= 1            # i 값을 1씩 감소시킵니다.\n",
        "print(factorial)      # factorial 값을 출력합니다."
      ],
      "metadata": {
        "colab": {
          "base_uri": "https://localhost:8080/"
        },
        "id": "fNTlVdpjcakW",
        "outputId": "38661b23-7e43-47f5-80fa-024d1d92cef6"
      },
      "execution_count": null,
      "outputs": [
        {
          "output_type": "stream",
          "name": "stdout",
          "text": [
            "120\n"
          ]
        }
      ]
    },
    {
      "cell_type": "markdown",
      "source": [
        "위 코드는 다음과 같은 동작을 수행합니다:\n",
        "\n",
        "i = 5를 사용하여 변수 i를 5로 초기화합니다.\n",
        "factorial = 1을 사용하여 변수 factorial을 1로 초기화합니다.\n",
        "while i >= 1:를 사용하여 i가 1 이상인 동안 반복합니다.\n",
        "factorial *= i를 사용하여 현재 i 값을 factorial에 곱합니다. 이는 factorial = factorial * i와 동일한 역할을 합니다.\n",
        "i -= 1을 사용하여 i 값을 1씩 감소시킵니다.\n",
        "반복이 종료되면 print(factorial)을 사용하여 factorial 값을 출력합니다."
      ],
      "metadata": {
        "id": "kxgMe1oK5SJ1"
      }
    },
    {
      "cell_type": "code",
      "source": [
        "#계산할 숫자를 입력받습니다.\n",
        "num = int(input(\"팩토리얼을 계산할 숫자를 입력하시오.: \"))\n",
        "\n",
        "# 초기값으로 1을 설정합니다.\n",
        "factorial = 1\n",
        "\n",
        "#팩토리얼 계산을 위한 반복문인 while 입니다.\n",
        "while num >=1:                                 # num값이 1보다 크거나 같을 때 하위 문장(코드)를 전환\n",
        "    factorial = factorial * num                # 현재 num값을 factorial값에 곱해줍니다.\n",
        "    num-= 1                                    # num값을 1식 감소시킵니다.\n",
        "\n",
        "print(f'계된 팩토리얼 값은 {factorial}입니다. ')      # 계산된 팩토리얼 값을 출력합니다."
      ],
      "metadata": {
        "colab": {
          "base_uri": "https://localhost:8080/"
        },
        "id": "flDOul0Xcwl7",
        "outputId": "19e259ba-deaf-4d99-80dc-b2417fbf6f5a"
      },
      "execution_count": null,
      "outputs": [
        {
          "output_type": "stream",
          "name": "stdout",
          "text": [
            "팩토리얼을 계산할 숫자를 입력하시오.: 5\n",
            "계된 팩토리얼 값은 120입니다. \n"
          ]
        }
      ]
    },
    {
      "cell_type": "markdown",
      "source": [
        "위 코드는 다음과 같은 동작을 수행합니다:\n",
        "\n",
        "num = int(input(\"팩토리얼을 계산할 숫자를 입력하시오.: \"))를 사용하여 사용자로부터 숫자를 입력받습니다. 입력받은 값은 num 변수에 저장됩니다.\n",
        "factorial = 1을 사용하여 변수 factorial을 1로 초기화합니다.\n",
        "while num >= 1:를 사용하여 num이 1 이상인 동안 반복합니다.\n",
        "factorial = factorial * num를 사용하여 현재 num 값을 factorial에 곱합니다.\n",
        "num -= 1을 사용하여 num 값을 1씩 감소시킵니다.\n",
        "반복이 종료되면 print(f'계산된 팩토리얼 값은 {factorial}입니다. ')를 사용하여 계산된 팩토리얼 값을 출력합니다."
      ],
      "metadata": {
        "id": "GHlZrUyD5l-W"
      }
    },
    {
      "cell_type": "markdown",
      "source": [
        "7. 구구단 출력해주는 코드 작성\n",
        " - 변수 dan\n",
        " - 반복문(1):for문 사용\n",
        " - 반복문(2):while문 사용"
      ],
      "metadata": {
        "id": "9SlDrlovfC2b"
      }
    },
    {
      "cell_type": "code",
      "source": [
        "# for문 사용\n",
        "dan = int(input(\"구구단에서 몇단을 출력할까요: \"))          # 사용자로부터 숫자를 입력받습니다.\n",
        "for i in range(1,10):                                       # 1부터 9까지의 숫자를 반복적으로 가져옵니다.\n",
        "    print(dan, \"x\", i, \"=\", dan * i)                        # 구구단의 계산식을 출력합니다. dan은 사용자로부터 입력받은 숫자이고, i는 반복문에서 가져온 숫자입니다. 계산식은 dan * i로서 구구단의 결과를 나타냅니다.\n",
        "# 반복이 종료되면 프로그램이 종료됩니다."
      ],
      "metadata": {
        "colab": {
          "base_uri": "https://localhost:8080/"
        },
        "id": "YoknWk-BfSpy",
        "outputId": "8f274fe4-6dcb-42a8-852a-f03f9ca9984c"
      },
      "execution_count": null,
      "outputs": [
        {
          "output_type": "stream",
          "name": "stdout",
          "text": [
            "구구단에서 몇단을 출력할까요: 4\n",
            "4 x 1 = 4\n",
            "4 x 2 = 8\n",
            "4 x 3 = 12\n",
            "4 x 4 = 16\n",
            "4 x 5 = 20\n",
            "4 x 6 = 24\n",
            "4 x 7 = 28\n",
            "4 x 8 = 32\n",
            "4 x 9 = 36\n"
          ]
        }
      ]
    },
    {
      "cell_type": "markdown",
      "source": [
        "위 코드는 다음과 같은 동작을 수행합니다:\n",
        "\n",
        "dan = int(input(\"구구단에서 몇 단을 출력할까요: \"))를 사용하여 사용자로부터 숫자를 입력받습니다. 입력받은 값은 dan 변수에 저장됩니다.\n",
        "for i in range(1, 10):를 사용하여 1부터 9까지의 숫자를 반복적으로 가져옵니다.\n",
        "print(dan, \"x\", i, \"=\", dan * i)를 사용하여 구구단의 계산식을 출력합니다. dan은 사용자로부터 입력받은 숫자이고, i는 반복문에서 가져온 숫자입니다. 계산식은 dan * i로서 구구단의 결과를 나타냅니다.\n",
        "반복이 종료되면 프로그램이 종료됩니다."
      ],
      "metadata": {
        "id": "Y4krbMO356JC"
      }
    },
    {
      "cell_type": "code",
      "source": [
        "# while문 사용\n",
        "dan = int(input(\"구구단에서 몇단을 출력할래?: \"))           # 사용자로부터 숫자를 입력받습니다. 입력받은 값은 dan 변수에 정수 형태로 저장됩니다.\n",
        "i = 1                                                       # 변수 i를 1로 초기화합니다\n",
        "while i <= 9:                                               # i가 9 이하인 동안 반복합니다.\n",
        "      print(dan, \"x\", i, \"=\", dan * i)                      # 구구단의 계산식을 출력합니다.\n",
        "      i += 1                                                # i 값을 1씩 증가시킵니다. 반복이 종료되면 프로그램이 종료됩니다."
      ],
      "metadata": {
        "colab": {
          "base_uri": "https://localhost:8080/"
        },
        "id": "RDJxJ9SqgA6S",
        "outputId": "fb453d5a-57a5-47cf-f83e-23c20a2460c8"
      },
      "execution_count": null,
      "outputs": [
        {
          "output_type": "stream",
          "name": "stdout",
          "text": [
            "구구단에서 몇단을 출력할래?: 4\n",
            "4 x 1 = 4\n",
            "4 x 2 = 8\n",
            "4 x 3 = 12\n",
            "4 x 4 = 16\n",
            "4 x 5 = 20\n",
            "4 x 6 = 24\n",
            "4 x 7 = 28\n",
            "4 x 8 = 32\n",
            "4 x 9 = 36\n"
          ]
        }
      ]
    },
    {
      "cell_type": "markdown",
      "source": [
        "위 코드는 다음과 같은 동작을 수행합니다:\n",
        "\n",
        "dan = int(input(\"구구단에서 몇 단을 출력할래?: \"))를 사용하여 사용자로부터 숫자를 입력받습니다. 입력받은 값은 dan 변수에 저장됩니다.\n",
        "i = 1을 사용하여 변수 i를 1로 초기화합니다.\n",
        "while i <= 9:를 사용하여 i가 9 이하인 동안 반복합니다.\n",
        "print(dan, \"x\", i, \"=\", dan * i)를 사용하여 구구단의 계산식을 출력합니다. dan은 사용자로부터 입력받은 숫자이고, i는 반복문에서 가져온 숫자입니다. 계산식은 dan * i로서 구구단의 결과를 나타냅니다.\n",
        "i += 1을 사용하여 i 값을 1씩 증가시킵니다.\n",
        "반복이 종료되면 프로그램이 종료됩니다."
      ],
      "metadata": {
        "id": "VjH8V0646SVk"
      }
    }
  ]
}