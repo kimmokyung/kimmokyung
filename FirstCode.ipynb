{
  "nbformat": 4,
  "nbformat_minor": 0,
  "metadata": {
    "colab": {
      "provenance": [],
      "authorship_tag": "ABX9TyPoKxlfTnBLmkP7HAa2YDKj",
      "include_colab_link": true
    },
    "kernelspec": {
      "name": "python3",
      "display_name": "Python 3"
    },
    "language_info": {
      "name": "python"
    }
  },
  "cells": [
    {
      "cell_type": "markdown",
      "metadata": {
        "id": "view-in-github",
        "colab_type": "text"
      },
      "source": [
        "<a href=\"https://colab.research.google.com/github/kimmokyung/kimmokyung/blob/main/FirstCode.ipynb\" target=\"_parent\"><img src=\"https://colab.research.google.com/assets/colab-badge.svg\" alt=\"Open In Colab\"/></a>"
      ]
    },
    {
      "cell_type": "code",
      "execution_count": null,
      "metadata": {
        "colab": {
          "base_uri": "https://localhost:8080/"
        },
        "id": "ESBUoDW_Fon3",
        "outputId": "d0515b6c-18df-4f83-c29d-fad61379df66"
      },
      "outputs": [
        {
          "output_type": "stream",
          "name": "stdout",
          "text": [
            "hello world!\n"
          ]
        }
      ],
      "source": [
        "print(\"hello world!\")     # hello world!를 출력"
      ]
    },
    {
      "cell_type": "markdown",
      "source": [
        "1. 나의 생애 첫 번째 코드"
      ],
      "metadata": {
        "id": "pYl1l51nH9F3"
      }
    },
    {
      "cell_type": "code",
      "source": [
        "print(5+5, 6-2, 4*5, 6/2)       # 5+5를 계산한 값 = 10, 6-2를 계산한 값 = 4, 4*5를 계산한 값 = 20 ,6/2를 계산한 값 = 3.0을 출력"
      ],
      "metadata": {
        "colab": {
          "base_uri": "https://localhost:8080/"
        },
        "id": "c7GdWSV-MAE1",
        "outputId": "9c78a9f4-a339-49e2-99bc-e804bd790781"
      },
      "execution_count": null,
      "outputs": [
        {
          "output_type": "stream",
          "name": "stdout",
          "text": [
            "10 4 20 3.0\n"
          ]
        }
      ]
    },
    {
      "cell_type": "markdown",
      "source": [
        "5+5: 5 더하기 5를 계산하여 결과인 10을 출력합니다.\n",
        "6-2: 6 빼기 2를 계산하여 결과인 4를 출력합니다.\n",
        "4*5: 4 곱하기 5를 계산하여 결과인 20을 출력합니다.\n",
        "6/2: 6 나누기 2를 계산하여 결과인 3을 출력합니다"
      ],
      "metadata": {
        "id": "E8G6nqTeouC5"
      }
    },
    {
      "cell_type": "markdown",
      "source": [],
      "metadata": {
        "id": "6OQT-phCorhe"
      }
    },
    {
      "cell_type": "markdown",
      "source": [
        "2. 두번째 코딩"
      ],
      "metadata": {
        "id": "Hhxkt_y_MBHM"
      }
    }
  ]
}