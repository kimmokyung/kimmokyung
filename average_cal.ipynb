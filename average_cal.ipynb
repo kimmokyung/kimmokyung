{
  "nbformat": 4,
  "nbformat_minor": 0,
  "metadata": {
    "colab": {
      "provenance": [],
      "authorship_tag": "ABX9TyNGB2AdNcNopJosx9R3I/pk",
      "include_colab_link": true
    },
    "kernelspec": {
      "name": "python3",
      "display_name": "Python 3"
    },
    "language_info": {
      "name": "python"
    }
  },
  "cells": [
    {
      "cell_type": "markdown",
      "metadata": {
        "id": "view-in-github",
        "colab_type": "text"
      },
      "source": [
        "<a href=\"https://colab.research.google.com/github/kimmokyung/kimmokyung/blob/main/average_cal.ipynb\" target=\"_parent\"><img src=\"https://colab.research.google.com/assets/colab-badge.svg\" alt=\"Open In Colab\"/></a>"
      ]
    },
    {
      "cell_type": "code",
      "execution_count": null,
      "metadata": {
        "colab": {
          "base_uri": "https://localhost:8080/"
        },
        "id": "TOui8nKWTwwe",
        "outputId": "7088af16-366e-4f59-8592-70db7387eef0"
      },
      "outputs": [
        {
          "output_type": "stream",
          "name": "stdout",
          "text": [
            "n1의 값을 입력하시오.:50\n",
            "n2의 값을 입력하시오.:60\n",
            "n3의 값을 입력하시오.:70\n",
            "합계는: 180\n",
            "평균은: 60.0\n"
          ]
        }
      ],
      "source": [
        "# 사용자로부터 n1, n2, n3의 값을 입력받습니다.\n",
        "n1 = int(input(\"n1의 값을 입력하시오.:\"))\n",
        "n2 = int(input(\"n2의 값을 입력하시오.:\"))\n",
        "n3 = int(input(\"n3의 값을 입력하시오.:\"))\n",
        "\n",
        "# 입력받은 세 개의 숫자를 더하여 합계를 계산합니다.\n",
        "total = n1 + n2 + n3\n",
        "\n",
        "# 합계를 출력합니다.\n",
        "print('합계는:', total)\n",
        "\n",
        "# 합계를 세 개의 숫자의 개수로 나누어 평균을 계산합니다.\n",
        "average = total / 3\n",
        "\n",
        "# 평균을 출력합니다.\n",
        "print('평균은:', average)"
      ]
    },
    {
      "cell_type": "markdown",
      "source": [
        "n1, n2, n3 변수에 사용자로부터 입력받은 값을 저장합니다.\n",
        "total 변수에 n1 + n2 + n3의 합계를 계산하여 저장합니다.\n",
        "print('합계는:', total)을 사용하여 합계를 출력합니다.\n",
        "average 변수에 total을 세 개의 숫자의 개수인 3으로 나눈 평균을 계산하여 저장합니다.\n",
        "print('평균은:', average)를 사용하여 평균을 출력합니다."
      ],
      "metadata": {
        "id": "BA8nTrwMpgsT"
      }
    }
  ]
}