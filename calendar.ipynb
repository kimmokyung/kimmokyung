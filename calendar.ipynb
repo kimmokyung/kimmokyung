{
  "nbformat": 4,
  "nbformat_minor": 0,
  "metadata": {
    "colab": {
      "provenance": [],
      "authorship_tag": "ABX9TyPglalFuGRcMPkK/peA3WJ7",
      "include_colab_link": true
    },
    "kernelspec": {
      "name": "python3",
      "display_name": "Python 3"
    },
    "language_info": {
      "name": "python"
    }
  },
  "cells": [
    {
      "cell_type": "markdown",
      "metadata": {
        "id": "view-in-github",
        "colab_type": "text"
      },
      "source": [
        "<a href=\"https://colab.research.google.com/github/kimmokyung/kimmokyung/blob/main/calendar.ipynb\" target=\"_parent\"><img src=\"https://colab.research.google.com/assets/colab-badge.svg\" alt=\"Open In Colab\"/></a>"
      ]
    },
    {
      "cell_type": "code",
      "execution_count": null,
      "metadata": {
        "colab": {
          "base_uri": "https://localhost:8080/"
        },
        "id": "HXKsTp6WZYXL",
        "outputId": "b8af50bd-1133-4ee9-84fc-f4ecce7a9de3"
      },
      "outputs": [
        {
          "output_type": "stream",
          "name": "stdout",
          "text": [
            "    October 2023\n",
            "Mo Tu We Th Fr Sa Su\n",
            "                   1\n",
            " 2  3  4  5  6  7  8\n",
            " 9 10 11 12 13 14 15\n",
            "16 17 18 19 20 21 22\n",
            "23 24 25 26 27 28 29\n",
            "30 31\n",
            "\n"
          ]
        }
      ],
      "source": [
        "# calender 모듈 사용\n",
        "import calendar\n",
        "\n",
        "# 연도와 월을 지정합니다.\n",
        "yy = 2023\n",
        "mm = 10\n",
        "\n",
        "# 지정한 연도와 월에 해당하는 달력을 출력합니다.\n",
        "print(calendar.month(yy, mm))\n"
      ]
    },
    {
      "cell_type": "markdown",
      "source": [
        "위 코드는 calendar 모듈을 import하여 사용하고, yy와 mm 변수에 각각 연도와 월을 지정합니다. calendar.month(yy, mm)은 지정한 연도와 월에 해당하는 달력을 반환하는 함수입니다. 이를 print() 함수를 사용하여 출력합니다.\n",
        "\n",
        "따라서 위 코드를 실행하면 2023년 10월에 해당하는 달력이 출력됩니다."
      ],
      "metadata": {
        "id": "PaRzSjnZreEQ"
      }
    },
    {
      "cell_type": "markdown",
      "source": [
        "2023년 10월 19일 to do list\n",
        "- 09:10-11:00 컴퓨팅적사고와 기초코딩\n",
        "- 11:10-12:00 아동건강교육\n",
        "- 12:00-16:20 시험공부\n",
        "- 16:20-18:00 집\n",
        "\n"
      ],
      "metadata": {
        "id": "P3mRo177asF2"
      }
    },
    {
      "cell_type": "code",
      "source": [
        "print (\"hello world\")                                                           # \"hello world\"라는 문자열을 출력합니다\n",
        "print (\"09:10-11:00 컴퓨팅적사고와 기초코딩\")                                   # \"09:10-11:00 컴퓨팅적사고와 기초코딩\"이라는 문자열을 출력합니다.\n",
        "print(\"11:10-12:00 아동건강교육\")                                               # \"11:10-12:00 아동건강교육\"이라는 문자열을 출력합니다.\n",
        "print(\"12:00-16:20 시험공부\")                                                   # \"12:00-16:20 시험공부\"라는 문자열을 출력합니다.\n",
        "print(\"16:20-18:00 집\")                                                         # \"16:20-18:00 집\"이라는 문자열을 출력합니다."
      ],
      "metadata": {
        "colab": {
          "base_uri": "https://localhost:8080/"
        },
        "id": "7mxTWJ_SdZ0N",
        "outputId": "e78cd7fd-ef0f-4f8e-b108-714338169a2b"
      },
      "execution_count": null,
      "outputs": [
        {
          "output_type": "stream",
          "name": "stdout",
          "text": [
            "hello world\n",
            "09:10-11:00 컴퓨팅적사고와 기초코딩\n",
            "11:10-12:00 아동건강교육\n",
            "12:00-16:20 시험공부\n",
            "16:20-18:00 집\n"
          ]
        }
      ]
    },
    {
      "cell_type": "markdown",
      "source": [
        "print(\"hello world\"): \"hello world\"라는 문자열을 출력합니다.\n",
        "print(\"09:10-11:00 컴퓨팅적사고와 기초코딩\"): \"09:10-11:00 컴퓨팅적사고와 기초코딩\"이라는 문자열을 출력합니다.\n",
        "print(\"11:10-12:00 아동건강교육\"): \"11:10-12:00 아동건강교육\"이라는 문자열을 출력합니다.\n",
        "print(\"12:00-16:20 시험공부\"): \"12:00-16:20 시험공부\"라는 문자열을 출력합니다.\n",
        "print(\"16:20-18:00 집\"): \"16:20-18:00 집\"이라는 문자열을 출력합니다."
      ],
      "metadata": {
        "id": "BPWjds1nrqcY"
      }
    }
  ]
}