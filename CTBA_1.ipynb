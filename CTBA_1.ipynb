{
  "nbformat": 4,
  "nbformat_minor": 0,
  "metadata": {
    "colab": {
      "provenance": [],
      "authorship_tag": "ABX9TyMWuDOvrln+9Gu4hAcsJJmk",
      "include_colab_link": true
    },
    "kernelspec": {
      "name": "python3",
      "display_name": "Python 3"
    },
    "language_info": {
      "name": "python"
    }
  },
  "cells": [
    {
      "cell_type": "markdown",
      "metadata": {
        "id": "view-in-github",
        "colab_type": "text"
      },
      "source": [
        "<a href=\"https://colab.research.google.com/github/kimmokyung/kimmokyung/blob/main/CTBA_1.ipynb\" target=\"_parent\"><img src=\"https://colab.research.google.com/assets/colab-badge.svg\" alt=\"Open In Colab\"/></a>"
      ]
    },
    {
      "cell_type": "markdown",
      "source": [
        "1. 쇼핑몰 배송물을 계산하는 코드 작성\n",
        " - 사용하는 변수 = price, shipping_cost"
      ],
      "metadata": {
        "id": "uoJTjfSkce5J"
      }
    },
    {
      "cell_type": "code",
      "source": [
        "print(\"상품의 가격을 입력하시오.\")              # 사용자에게 \"상품의 가격을 입력하시오.\"라는 안내 메시지를 출력합니다.\n",
        "price = int(input(\"구입금액 입력: \"))           # 사용자로부터 구입금액을 입력받고, 입력받은 값을 int() 함수를 사용하여 정수형으로 변환하여 price 변수에 저장합니다.\n",
        "\n",
        "# 구입금액이 2만원 이상인 경우 배송비를 0으로 설정하고 메시지 출력\n",
        "if price > 20000:\n",
        "  shipping_cost = 0\n",
        "  print(f'구입금액이 2만원 이상입니다. 배송비는 무료입니다.')\n",
        "else:\n",
        "  # 구입금액이 2만원 이하인 경우 배송비를 3000으로 설정하고 메시지 출력\n",
        "  shipping_cost = 3000\n",
        "  print(f'구입금액이 2만원 이하입니다. 배송비는 3000원입니다.')\n",
        "\n",
        "# 배송비를 출력\n",
        "print(f'회원님의 배송비는 {shipping_cost}원 입니다.')"
      ],
      "metadata": {
        "colab": {
          "base_uri": "https://localhost:8080/"
        },
        "id": "BWjN5iu-cxsF",
        "outputId": "feae95a8-c532-4780-b5df-7dbc9a7c6357"
      },
      "execution_count": null,
      "outputs": [
        {
          "output_type": "stream",
          "name": "stdout",
          "text": [
            "상품의 가격을 입력하시오.\n",
            "구입금액 입력: 20001\n",
            "구입금액이 2만원 이상입니다.\n",
            "회원님의 배송비는 0원 입니다\n"
          ]
        }
      ]
    },
    {
      "cell_type": "markdown",
      "source": [
        "위 코드는 구입금액에 따라 배송비를 계산하고 출력하는 코드입니다. 주석을 통해 코드의 각 부분을 보다 자세히 설명하겠습니다:\n",
        "\n",
        "print(\"상품의 가격을 입력하시오.\")를 사용하여 사용자에게 \"상품의 가격을 입력하시오.\"라는 안내 메시지를 출력합니다.\n",
        "price = int(input(\"구입금액 입력: \"))를 통해 사용자로부터 구입금액을 입력받고, 입력받은 값을 int() 함수를 사용하여 정수형으로 변환하여 price 변수에 저장합니다.\n",
        "if price > 20000:를 사용하여 구입금액이 2만원 이상인 경우를 판별합니다.\n",
        "shipping_cost = 0을 통해 배송비를 0으로 설정합니다.\n",
        "print(f'구입금액이 2만원 이상입니다. 배송비는 무료입니다.')를 사용하여 구입금액이 2만원 이상임을 출력하고, 배송비가 무료임을 안내합니다.\n",
        "else:를 사용하여 구입금액이 2만원 이하인 경우를 판별합니다.\n",
        "shipping_cost = 3000을 통해 배송비를 3000으로 설정합니다.\n",
        "print(f'구입금액이 2만원 이하입니다. 배송비는 3000원입니다.')를 사용하여 구입금액이 2만원 이하임을 출력하고, 배송비가 3000원임을 안내합니다.\n",
        "print(f'회원님의 배송비는 {shipping_cost}원 입니다.')를 사용하여 배송비를 출력합니다."
      ],
      "metadata": {
        "id": "SCUtikw6xKSg"
      }
    },
    {
      "cell_type": "markdown",
      "source": [
        "2. 학생으로부터 성적을 입력받아 합격유무를 출력하는 코드\n",
        " - 사용변수: grade"
      ],
      "metadata": {
        "id": "icGrzTEMgsp8"
      }
    },
    {
      "cell_type": "code",
      "source": [
        "print(\"성적을 입력하시오.\")                   # 사용자에게 \"성적을 입력하시오.\"라는 안내 메시지를 출력합니다\n",
        "grade = int(input(\"성적입력: \"))              # 사용자로부터 성적을 입력받고, 입력받은 값을 int() 함수를 사용하여 정수형으로 변환하여 grade 변수에 저장합니다.\n",
        "\n",
        "# 입력받은 성적이 70점 이상인 경우\n",
        "if grade >= 70:\n",
        "  print(f'70점 이상이므로 합격입니다.')       # 성적이 70점 이상임을 출력합니다.\n",
        "  print(\"축하합니다. 합격입니다.\")            # 합격 메시지를 출력합니다.\n",
        "else:\n",
        "  # 입력받은 성적이 70점 미만인 경우\n",
        "  print(f'70점 이하이므로 불합격입니다.')     # 성적이 70점 미만임을 출력합니다.\n",
        "  print(\"아쉽군요, 다시 한 번 도전하세요.\")   # 불합격 메시지를 출력합니다."
      ],
      "metadata": {
        "colab": {
          "base_uri": "https://localhost:8080/"
        },
        "id": "ehUtMPMwhAsD",
        "outputId": "3fb4dea1-7d50-4d24-bd2f-492bf208d51b"
      },
      "execution_count": null,
      "outputs": [
        {
          "output_type": "stream",
          "name": "stdout",
          "text": [
            "성적을 입력하시오. \n",
            "성적입력: 71\n",
            "70점 이상이므로 합격입니다. \n",
            "축하합니다. 합격입니다\n"
          ]
        }
      ]
    },
    {
      "cell_type": "markdown",
      "source": [
        "위 코드는 다음과 같은 동작을 수행합니다:\n",
        "\n",
        "print(\"성적을 입력하시오.\")를 사용하여 사용자에게 \"성적을 입력하시오.\"라는 안내 메시지를 출력합니다.\n",
        "grade = int(input(\"성적입력: \"))를 통해 사용자로부터 성적을 입력받고, 입력받은 값을 int() 함수를 사용하여 정수형으로 변환하여 grade 변수에 저장합니다.\n",
        "if grade >= 70:를 사용하여 입력받은 성적이 70점 이상인지를 판별합니다.\n",
        "print(f'70점 이상이므로 합격입니다.')를 사용하여 성적이 70점 이상임을 출력합니다.\n",
        "print(\"축하합니다. 합격입니다.\")를 사용하여 합격 메시지를 출력합니다.\n",
        "else:를 사용하여 입력받은 성적이 70점 미만인 경우를 판별합니다.\n",
        "print(f'70점 이하이므로 불합격입니다.')를 사용하여 성적이 70점 미만임을 출력합니다.\n",
        "print(\"아쉽군요, 다시 한 번 도전하세요.\")를 사용하여 불합격 메시지를 출력합니다."
      ],
      "metadata": {
        "id": "d1W7MjovyQMQ"
      }
    },
    {
      "cell_type": "markdown",
      "source": [
        "근무시간에 따라 초과근무와 정상근무를 판별하는 코드\n",
        " - work_hour\n",
        " - 연산코드는 work_hour > 72"
      ],
      "metadata": {
        "id": "avCcNc2thwi8"
      }
    },
    {
      "cell_type": "code",
      "source": [
        "print(\"근무시간을 입력하시오.\")                                 # 사용자에게 \"근무시간을 입력하시오.\"라는 안내 메시지를 출력합니다\n",
        "work_hour = int(input(\"근무시간 입력: \"))                       # 사용자로부터 근무시간을 입력받고, 입력받은 값을 int() 함수를 사용하여 정수형으로 변환하여 work_hour 변수에 저장합니다.\n",
        "\n",
        "# 입력받은 근무시간이 72시간을 초과하는 경우\n",
        "if work_hour > 72:\n",
        "  print(\"-\"*19)                                                 # 구분선을 출력합니다.\n",
        "  print(f'초과근무입니다.')                                     # 근무시간이 72시간을 초과함을 출력합니다.\n",
        "  print(\"-\"*19)                                                 # 구분선을 출력합니다.\n",
        "else:\n",
        "  # 입력받은 근무시간이 72시간 이하인 경우\n",
        "  print(\"-\"*19)                                                 # 구분선을 출력합니다.\n",
        "  print(f'정상근무입니다.')                                     # 근무시간이 72시간 이하임을 출력합니다.\n",
        "  print(\"-\"*19)                                                 # 구분선을 출력합니다.\n"
      ],
      "metadata": {
        "colab": {
          "base_uri": "https://localhost:8080/"
        },
        "id": "UZzq6182iDoc",
        "outputId": "543bb4d8-b7b1-40f3-afdb-0d9d9d166534"
      },
      "execution_count": null,
      "outputs": [
        {
          "output_type": "stream",
          "name": "stdout",
          "text": [
            " 근무시간을 입력하시오. \n",
            "근무시간 입력: 73\n",
            "-------------------\n",
            "초과근무입니다. \n",
            "-------------------\n"
          ]
        }
      ]
    },
    {
      "cell_type": "markdown",
      "source": [
        "위 코드는 다음과 같은 동작을 수행합니다:\n",
        "\n",
        "print(\"근무시간을 입력하시오.\")를 사용하여 사용자에게 \"근무시간을 입력하시오.\"라는 안내 메시지를 출력합니다.\n",
        "work_hour = int(input(\"근무시간 입력: \"))를 통해 사용자로부터 근무시간을 입력받고, 입력받은 값을 int() 함수를 사용하여 정수형으로 변환하여 work_hour 변수에 저장합니다.\n",
        "if work_hour > 72:를 사용하여 입력받은 근무시간이 72시간을 초과하는지를 판별합니다.\n",
        "print(\"-\"*19)를 사용하여 구분선을 출력합니다.\n",
        "print(f'초과근무입니다.')를 사용하여 근무시간이 72시간을 초과함을 출력합니다.\n",
        "print(\"-\"*19)를 사용하여 구분선을 출력합니다.\n",
        "else:를 사용하여 입력받은 근무시간이 72시간 이하인 경우를 판별합니다.\n",
        "print(\"-\"*19)를 사용하여 구분선을 출력합니다.\n",
        "print(f'정상근무입니다.')를 사용하여 근무시간이 72시간 이하임을 출력합니다.\n",
        "print(\"-\"*19)를 사용하여 구분선을 출력합니다."
      ],
      "metadata": {
        "id": "-zZRbgb1zCmk"
      }
    },
    {
      "cell_type": "markdown",
      "source": [
        "4. 짝수와 홀수를 판별하는 코드\n",
        " - 사용하는 : _rum_\n",
        " - 수식: ( x % 2) !=0:\n"
      ],
      "metadata": {
        "id": "9hl-NP1wl2tN"
      }
    },
    {
      "cell_type": "code",
      "source": [
        "print(\"정수를 입력하시오.\")                     # 사용자에게 \"정수를 입력하시오.\"라는 안내 메시지를 출력합니다.\n",
        "_rum_ = int(input(\"정수 입력: \"))               # 사용자로부터 정수를 입력받고, 입력받은 값을 int() 함수를 사용하여 정수형으로 변환하여 rum 변수에 저장합니다.\n",
        "\n",
        "# 입력받은 정수가 홀수인 경우\n",
        "if(_rum_ % 2) != 0:\n",
        "  print(f'입력하신 {_rum_}은 홀수입니다.')      # 입력받은 정수가 홀수임을 출력합니다.\n",
        "else:\n",
        "  # 입력받은 정수가 짝수인 경우\n",
        "  print(f'입력하신 {_rum_}은 짝수입니다.')      # 입력받은 정수가 짝수임을 출력합니다."
      ],
      "metadata": {
        "colab": {
          "base_uri": "https://localhost:8080/"
        },
        "id": "m5lrDWbOmCs8",
        "outputId": "3cfbb17f-49d0-47a2-88bb-2e994cab5c4d"
      },
      "execution_count": null,
      "outputs": [
        {
          "output_type": "stream",
          "name": "stdout",
          "text": [
            "정수를 입력하시오. \n",
            "정수 입력: 2\n",
            "입력하신 2은 짝수입니다. \n"
          ]
        }
      ]
    },
    {
      "cell_type": "markdown",
      "source": [
        "위 코드는 다음과 같은 동작을 수행합니다:\n",
        "\n",
        "print(\"정수를 입력하시오.\")를 사용하여 사용자에게 \"정수를 입력하시오.\"라는 안내 메시지를 출력합니다.\n",
        "_rum_ = int(input(\"정수 입력: \"))를 통해 사용자로부터 정수를 입력받고, 입력받은 값을 int() 함수를 사용하여 정수형으로 변환하여 _rum_ 변수에 저장합니다.\n",
        "if(_rum_ % 2) != 0:를 사용하여 입력받은 정수가 홀수인지를 판별합니다. % 연산자를 사용하여 정수를 2로 나눈 나머지가 0이 아니면 홀수입니다.\n",
        "print(f'입력하신 {_rum_}은 홀수입니다.')를 사용하여 입력받은 정수가 홀수임을 출력합니다.\n",
        "else:를 사용하여 입력받은 정수가 홀수가 아닌 경우를 판별합니다.\n",
        "print(f'입력하신 {_rum_}은 짝수입니다.')를 사용하여 입력받은 정수가 짝수임을 출력합니다."
      ],
      "metadata": {
        "id": "FJcfOFmAzrnX"
      }
    },
    {
      "cell_type": "markdown",
      "source": [
        "5.사용자의 이름과 나이를 물어보고, 답변하는 코드\n",
        "\n",
        " - 사용변수: name, age\n",
        "\n",
        " - 출력할 내용 :\n",
        "\n",
        "   -성명 :\n",
        "\n",
        "   -나이 : 20\n",
        "\n",
        "   -(1) 20이하: 입력할 내용: 프로그래밍을 배우는 최적의 나이입니다.\n",
        "   \n",
        "   -(2) 20이상: 아직도 늦지 않았습니다.\n",
        "\n"
      ],
      "metadata": {
        "id": "M_oFv3f5nG-W"
      }
    },
    {
      "cell_type": "code",
      "source": [
        "print(\"이름과 나이를 입력하시오.\")                            # 사용자에게 \"이름과 나이를 입력하시오.\"라는 안내 메시지를 출력합니다.\n",
        "name = input(\"이름 입력: \")                                   # 사용자로부터 이름을 입력받고, 입력받은 값을 name 변수에 저장합니다.\n",
        "age = int(input(\"나이 입력: \"))                               # 사용자로부터 나이를 입력받고, 입력받은 값을 int() 함수를 사용하여 정수형으로 변환하여 age 변수에 저장합니다.\n",
        "\n",
        "# 입력받은 나이가 20 이하인 경우\n",
        "if age <= 20:\n",
        "  print(f'프로그래밍을 배우는 최적의 나이입니다.')            # 입력받은 나이가 20 이하임을 출력합니다.\n",
        "else:\n",
        "  # 입력받은 나이가 20 초과인 경우\n",
        "  print(f'아직도 늦지 않았습니다.')                           # 입력받은 나이가 20 초과임을 출력합니다."
      ],
      "metadata": {
        "colab": {
          "base_uri": "https://localhost:8080/"
        },
        "id": "_hiM5OPbn5bW",
        "outputId": "687f5a49-566a-42c1-f1a8-4ad26c7683aa"
      },
      "execution_count": null,
      "outputs": [
        {
          "output_type": "stream",
          "name": "stdout",
          "text": [
            "이름과 나이를 입력하시오. \n",
            "이름입력: 김모경\n",
            "나이입력: 30\n",
            "아직도 늦지 않았습니다. \n"
          ]
        }
      ]
    },
    {
      "cell_type": "markdown",
      "source": [
        "위 코드는 다음과 같은 동작을 수행합니다:\n",
        "\n",
        "print(\"이름과 나이를 입력하시오.\")를 사용하여 사용자에게 \"이름과 나이를 입력하시오.\"라는 안내 메시지를 출력합니다.\n",
        "name = input(\"이름 입력: \")을 통해 사용자로부터 이름을 입력받고, 입력받은 값을 name 변수에 저장합니다.\n",
        "age = int(input(\"나이 입력: \"))를 통해 사용자로부터 나이를 입력받고, 입력받은 값을 int() 함수를 사용하여 정수형으로 변환하여 age 변수에 저장합니다.\n",
        "if age <= 20:를 사용하여 입력받은 나이가 20 이하인지를 판별합니다.\n",
        "print(f'프로그래밍을 배우는 최적의 나이입니다.')를 사용하여 입력받은 나이가 20 이하임을 출력합니다.\n",
        "else:를 사용하여 입력받은 나이가 20 초과인 경우를 판별합니다.\n",
        "print(f'아직도 늦지 않았습니다.')를 사용하여 입력받은 나이가 20 초과임을 출력합니다."
      ],
      "metadata": {
        "id": "ELggjPNE0A_a"
      }
    }
  ]
}