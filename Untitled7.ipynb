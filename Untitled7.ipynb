{
  "nbformat": 4,
  "nbformat_minor": 0,
  "metadata": {
    "colab": {
      "provenance": [],
      "authorship_tag": "ABX9TyNDUD0eCW50K81fp8g1VtJM",
      "include_colab_link": true
    },
    "kernelspec": {
      "name": "python3",
      "display_name": "Python 3"
    },
    "language_info": {
      "name": "python"
    }
  },
  "cells": [
    {
      "cell_type": "markdown",
      "metadata": {
        "id": "view-in-github",
        "colab_type": "text"
      },
      "source": [
        "<a href=\"https://colab.research.google.com/github/kimmokyung/kimmokyung/blob/main/Untitled7.ipynb\" target=\"_parent\"><img src=\"https://colab.research.google.com/assets/colab-badge.svg\" alt=\"Open In Colab\"/></a>"
      ]
    },
    {
      "cell_type": "markdown",
      "source": [
        "사용자로부터 2개의 정수를 받아서 합계를 출력"
      ],
      "metadata": {
        "id": "hQLNgbxxKSuK"
      }
    },
    {
      "cell_type": "code",
      "source": [
        "# 사용자에게 \"정수 2개를 입력하시오.:\"라는 안내 메시지를 출력\n",
        "print(\"정수 2개를 입력하시오.:\")\n",
        "\n",
        "# A, B = input().split()을 통해 입력받은 값들을 split() 함수를 사용하여 공백을 기준으로 분리하고, A와 B 변수에 각각 저장합니다.\n",
        "A,B = input().split()\n",
        "A=int(A)\n",
        "B=int(B)\n",
        "\n",
        "# print(A + B)를 사용하여 A와 B의 합을 출력합니다.\n",
        "print(A+B)"
      ],
      "metadata": {
        "colab": {
          "base_uri": "https://localhost:8080/"
        },
        "id": "A9KURoRGKdVd",
        "outputId": "7b65529e-30cc-4f57-f55e-1b38a384f201"
      },
      "execution_count": null,
      "outputs": [
        {
          "output_type": "stream",
          "name": "stdout",
          "text": [
            "정수 2개를 입력하시오.:\n",
            "3 5\n",
            "8\n"
          ]
        }
      ]
    },
    {
      "cell_type": "markdown",
      "source": [
        "위 코드는 input() 함수를 사용하여 사용자로부터 입력을 받습니다. 사용자에게 \"정수 2개를 입력하시오.:\"라는 안내 메시지를 출력한 후, input().split()을 사용하여 사용자로부터 입력받은 값을 공백을 기준으로 분리합니다.\n",
        "\n",
        "A, B = input().split()을 통해 입력받은 값들을 split() 함수를 사용하여 공백을 기준으로 분리하고, A와 B 변수에 각각 저장합니다.\n",
        "A = int(A)와 B = int(B)를 통해 A와 B를 정수형으로 변환합니다.\n",
        "print(A + B)를 사용하여 A와 B의 합을 출력합니다."
      ],
      "metadata": {
        "id": "nnHFHGncuCDu"
      }
    },
    {
      "cell_type": "markdown",
      "source": [
        "부가세 계산"
      ],
      "metadata": {
        "id": "txzP-8E-L2XT"
      }
    },
    {
      "cell_type": "code",
      "source": [
        "print(\"상품의 가격을 입력하시오.:\")                                             # 사용자에게 \"상품의 가격을 입력하시오.:\"라는 안내 메시지를 출력합니다.\n",
        "price = float(input())                                                          # price = float(input())를 통해 사용자로부터 입력받은 가격을 float() 함수를 사용하여 실수형으로 변환하고, price 변수에 저장합니다\n",
        "vat = price*0.1                                                                 # vat = price * 0.1을 통해 입력받은 가격에 0.1을 곱하여 부가가치세를 계산하고, vat 변수에 저장합니다.\n",
        "print(vat)                                                                      # print(vat)을 사용하여 계산된 부가가치세를 출력합니다."
      ],
      "metadata": {
        "colab": {
          "base_uri": "https://localhost:8080/"
        },
        "id": "Jv_Y-i6aL46Q",
        "outputId": "b9e64276-af42-4171-f5e8-4efd77c4d77b"
      },
      "execution_count": null,
      "outputs": [
        {
          "output_type": "stream",
          "name": "stdout",
          "text": [
            "상품의 가격을 입력하시오.:\n",
            "10000\n",
            "1000.0\n"
          ]
        }
      ]
    },
    {
      "cell_type": "markdown",
      "source": [],
      "metadata": {
        "id": "y-UJ0QrCubbP"
      }
    },
    {
      "cell_type": "markdown",
      "source": [
        "위 코드는 input() 함수를 사용하여 사용자로부터 상품의 가격을 입력받습니다. 입력받은 값을 활용하여 부가가치세를 계산하고, print() 함수를 사용하여 계산된 부가가치세를 출력합니다.\n",
        "\n",
        "print(\"상품의 가격을 입력하시오.:\")를 사용하여 사용자에게 \"상품의 가격을 입력하시오.:\"라는 안내 메시지를 출력합니다.\n",
        "price = float(input())를 통해 사용자로부터 입력받은 가격을 float() 함수를 사용하여 실수형으로 변환하고, price 변수에 저장합니다.\n",
        "vat = price * 0.1을 통해 입력받은 가격에 0.1을 곱하여 부가가치세를 계산하고, vat 변수에 저장합니다.\n",
        "print(vat)을 사용하여 계산된 부가가치세를 출력합니다."
      ],
      "metadata": {
        "id": "9IFbDmIsubg_"
      }
    }
  ]
}