{
  "nbformat": 4,
  "nbformat_minor": 0,
  "metadata": {
    "colab": {
      "provenance": [],
      "authorship_tag": "ABX9TyP94PgJQEykWIFGCr1YZmHU",
      "include_colab_link": true
    },
    "kernelspec": {
      "name": "python3",
      "display_name": "Python 3"
    },
    "language_info": {
      "name": "python"
    }
  },
  "cells": [
    {
      "cell_type": "markdown",
      "metadata": {
        "id": "view-in-github",
        "colab_type": "text"
      },
      "source": [
        "<a href=\"https://colab.research.google.com/github/kimmokyung/kimmokyung/blob/main/Untitled4.ipynb\" target=\"_parent\"><img src=\"https://colab.research.google.com/assets/colab-badge.svg\" alt=\"Open In Colab\"/></a>"
      ]
    },
    {
      "cell_type": "code",
      "execution_count": 1,
      "metadata": {
        "id": "8cd3UdR_Y2RU",
        "outputId": "44e332e2-797b-442e-fe1e-0e93f20eec02",
        "colab": {
          "base_uri": "https://localhost:8080/"
        }
      },
      "outputs": [
        {
          "output_type": "stream",
          "name": "stdout",
          "text": [
            "    October 2023\n",
            "Mo Tu We Th Fr Sa Su\n",
            "                   1\n",
            " 2  3  4  5  6  7  8\n",
            " 9 10 11 12 13 14 15\n",
            "16 17 18 19 20 21 22\n",
            "23 24 25 26 27 28 29\n",
            "30 31\n",
            "\n"
          ]
        }
      ],
      "source": [
        "#clender 모듈 사용\n",
        "import calendar\n",
        "\n",
        "# 연도와 월을 지정합니다.\n",
        "yy = 2023\n",
        "mm = 10\n",
        "\n",
        "# 지정한 연도와 월에 해당하는 달력을 출력합니다.\n",
        "print(calendar.month(yy, mm))\n"
      ]
    },
    {
      "cell_type": "markdown",
      "source": [
        "위 코드는 calendar 모듈을 import하여 사용하고, yy와 mm 변수에 각각 연도와 월을 지정합니다. calendar.month(yy, mm)은 지정한 연도와 월에 해당하는 달력을 반환하는 함수입니다. 이를 print() 함수를 사용하여 출력합니다.\n",
        "\n",
        "따라서 위 코드를 실행하면 2023년 10월에 해당하는 달력이 출력됩니다."
      ],
      "metadata": {
        "id": "BgtjuJNuq1vQ"
      }
    }
  ]
}