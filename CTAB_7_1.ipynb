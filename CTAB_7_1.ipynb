{
  "nbformat": 4,
  "nbformat_minor": 0,
  "metadata": {
    "colab": {
      "provenance": [],
      "authorship_tag": "ABX9TyNNi9yE/EEqjqx5jt1mD3ok",
      "include_colab_link": true
    },
    "kernelspec": {
      "name": "python3",
      "display_name": "Python 3"
    },
    "language_info": {
      "name": "python"
    }
  },
  "cells": [
    {
      "cell_type": "markdown",
      "metadata": {
        "id": "view-in-github",
        "colab_type": "text"
      },
      "source": [
        "<a href=\"https://colab.research.google.com/github/kimmokyung/kimmokyung/blob/main/CTAB_7_1.ipynb\" target=\"_parent\"><img src=\"https://colab.research.google.com/assets/colab-badge.svg\" alt=\"Open In Colab\"/></a>"
      ]
    },
    {
      "cell_type": "markdown",
      "source": [],
      "metadata": {
        "id": "K6cYXF56nzIY"
      }
    },
    {
      "cell_type": "markdown",
      "source": [
        "1. 일한 시간과 시급을 계산하여 출력하는 코드\n",
        " - 일한시간(hours_worked)\n",
        " - 일한날짜(day_worked)\n",
        " - 시급(pqy_rate)\n",
        " - 월급(monthly_pay)"
      ],
      "metadata": {
        "id": "pFrXdYkUoupV"
      }
    },
    {
      "cell_type": "code",
      "source": [
        "hours_worked = int(input(\"일한 시간을 입력하시오.: \"))                          # hours_worked 변수에 사용자로부터 입력받은 일한 시간을 저장합니다.\n",
        "pay_rate = int(input(\"시급을 입력하시오.(23년 시급 9620): \"))                   # pay_rate 변수에 사용자로부터 입력받은 시급을 저장합니다. day_worked 변수에 사용자로부터 입력받은 일한 날짜를 저장합니다.\n",
        "day_worked = int(input(\"일한 날짜를 입력하시오.: \"))                            # day_worked 변수에 사용자로부터 입력받은 일한 날짜를 저장합니다.\n",
        "\n",
        "day_month = hours_worked * day_worked  # 한 달 동안의 총 근무 시간을 계산합니다.\n",
        "monthly_pay = hours_worked * pay_rate * day_worked  # 월급여를 계산합니다.\n",
        "\n",
        "print(f'일한시간은 {hours_worked}시간 이며, 시급은 {pay_rate}원 이고, 월급여는 {monthly_pay}입니다.')         # print() 함수를 사용하여 입력받은 값과 계산된 월급여를 출력합니다."
      ],
      "metadata": {
        "colab": {
          "base_uri": "https://localhost:8080/"
        },
        "id": "fkq0BSTbpGLw",
        "outputId": "957d0b27-a253-4981-8d4d-f124ec6fca26"
      },
      "execution_count": null,
      "outputs": [
        {
          "output_type": "stream",
          "name": "stdout",
          "text": [
            "일한 시간을 입력하시오.: 10\n",
            "시급을 입력하시오.(23년 시급 9620): 9620\n",
            "일한 날짜를 입력하시오.: 25\n",
            "일한시간은 10시간 이며, 시급은 9620원 이고, 월급여는 2405000입니다.\n"
          ]
        }
      ]
    },
    {
      "cell_type": "markdown",
      "source": [
        "위 코드는 input() 함수를 사용하여 사용자로부터 일한 시간, 시급, 일한 날짜를 입력받습니다. 이후 입력받은 값을 활용하여 월급여를 계산하고, print() 함수를 사용하여 결과를 출력합니다.\n",
        "\n",
        "hours_worked 변수에 사용자로부터 입력받은 일한 시간을 저장합니다.\n",
        "pay_rate 변수에 사용자로부터 입력받은 시급을 저장합니다.\n",
        "day_worked 변수에 사용자로부터 입력받은 일한 날짜를 저장합니다.\n",
        "day_month 변수에 hours_worked * day_worked를 통해 한 달 동안의 총 근무 시간을 계산합니다.\n",
        "monthly_pay 변수에 hours_worked * pay_rate * day_worked를 통해 월급여를 계산합니다.\n",
        "print() 함수를 사용하여 입력받은 값과 계산된 월급여를 출력합니다."
      ],
      "metadata": {
        "id": "jVVhaIl8sadS"
      }
    },
    {
      "cell_type": "markdown",
      "source": [
        "2. 환전하는 코드를 작성\n",
        " - 변수 won. usd. exchange\n",
        " - 계산 won * usd"
      ],
      "metadata": {
        "id": "tdfoFmy6unLo"
      }
    },
    {
      "cell_type": "markdown",
      "source": [
        "won = int(input(\"환전할 달러를 입력: \"))\n",
        "usd = int(input(\"달러의 환율금액 입력(231031: 1372원)\"))\n",
        "exchange = won * usd\n",
        "print(f'환전하고 싶은 금액은 {usd}달러는 환율 {won}으로 계산하면, {exchange}원입니다.')"
      ],
      "metadata": {
        "id": "wJfLytqyu9p6"
      }
    },
    {
      "cell_type": "code",
      "source": [
        "fahrenheit = int(input(\"화씨를 입력하시오.:\"))                # fahrenheit 변수에 사용자로부터 입력받은 화씨 온도를 저장합니다.\n",
        "celsius = (fahrenheit - 32) / 1.8                             # celsius 변수에 (fahrenheit - 32) / 1.8를 통해 화씨를 섭씨로 변환한 값을 저장합니다.\n",
        "print(celsius)                                                # print() 함수를 사용하여 변환된 섭씨 온도를 출력합니다."
      ],
      "metadata": {
        "colab": {
          "base_uri": "https://localhost:8080/"
        },
        "id": "_4BkANl1zbPU",
        "outputId": "38841a6b-ade0-4459-b8c8-b7a4143505e2"
      },
      "execution_count": null,
      "outputs": [
        {
          "output_type": "stream",
          "name": "stdout",
          "text": [
            "화씨를 입력하시오.:100\n",
            "37.77777777777778\n"
          ]
        }
      ]
    },
    {
      "cell_type": "markdown",
      "source": [
        "위 코드는 input() 함수를 사용하여 사용자로부터 화씨 온도를 입력받습니다. 이후 입력받은 값을 활용하여 화씨를 섭씨로 변환하고, print() 함수를 사용하여 변환된 섭씨 온도를 출력합니다.\n",
        "\n",
        "fahrenheit 변수에 사용자로부터 입력받은 화씨 온도를 저장합니다.\n",
        "celsius 변수에 (fahrenheit - 32) / 1.8를 통해 화씨를 섭씨로 변환한 값을 저장합니다.\n",
        "print() 함수를 사용하여 변환된 섭씨 온도를 출력합니다."
      ],
      "metadata": {
        "id": "DVkbq7x-s4Uf"
      }
    },
    {
      "cell_type": "markdown",
      "source": [
        "3. 화씨를 섭씨로 섭씨를 화씨로 변경하는 코드\n",
        " - 화씨를 섭씨로 \"F = ℃* 1.8 + 32\n",
        " - 섭씨를 화씨로 \"℃ = (\"F - 32) / 1.8\n",
        " - 변수 화씨 fahrenheit, 섭씨 celsius\n"
      ],
      "metadata": {
        "id": "9k9s1K0HyOtF"
      }
    },
    {
      "cell_type": "code",
      "source": [
        "celsius = float(input(\"섭씨를 입력하시오.:\"))                                   # celsius 변수에 사용자로부터 입력받은 섭씨 온도를 저장합니다.  float() 함수를 사용하여 입력값을 실수형으로 변환합니다.\n",
        "fahrenheit = celsius * 1.8 +32                                                  # fahrenheit 변수에 celsius * 1.8 + 32를 통해 섭씨를 화씨로 변환한 값을 저장합니다.\n",
        "print(fahrenheit)                                                               # print() 함수를 사용하여 변환된 화씨 온도를 출력합니다."
      ],
      "metadata": {
        "colab": {
          "base_uri": "https://localhost:8080/"
        },
        "id": "nxuDxnqh0MoV",
        "outputId": "3d333af3-8299-40f5-876c-a858215b2141"
      },
      "execution_count": null,
      "outputs": [
        {
          "output_type": "stream",
          "name": "stdout",
          "text": [
            "섭씨를 입력하시오.:37.77777777777778\n",
            "100.0\n"
          ]
        }
      ]
    },
    {
      "cell_type": "markdown",
      "source": [
        "위 코드는 input() 함수를 사용하여 사용자로부터 섭씨 온도를 입력받습니다. 입력받은 값을 활용하여 섭씨를 화씨로 변환하고, print() 함수를 사용하여 변환된 화씨 온도를 출력합니다.\n",
        "\n",
        "celsius 변수에 사용자로부터 입력받은 섭씨 온도를 저장합니다. float() 함수를 사용하여 입력값을 실수형으로 변환합니다.\n",
        "fahrenheit 변수에 celsius * 1.8 + 32를 통해 섭씨를 화씨로 변환한 값을 저장합니다.\n",
        "print() 함수를 사용하여 변환된 화씨 온도를 출력합니다."
      ],
      "metadata": {
        "id": "uEhfdTVhthfR"
      }
    }
  ]
}