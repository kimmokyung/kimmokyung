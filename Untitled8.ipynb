{
  "nbformat": 4,
  "nbformat_minor": 0,
  "metadata": {
    "colab": {
      "provenance": [],
      "authorship_tag": "ABX9TyNWwoXyl00wdrb2BRWOUidR",
      "include_colab_link": true
    },
    "kernelspec": {
      "name": "python3",
      "display_name": "Python 3"
    },
    "language_info": {
      "name": "python"
    }
  },
  "cells": [
    {
      "cell_type": "markdown",
      "metadata": {
        "id": "view-in-github",
        "colab_type": "text"
      },
      "source": [
        "<a href=\"https://colab.research.google.com/github/kimmokyung/kimmokyung/blob/main/Untitled8.ipynb\" target=\"_parent\"><img src=\"https://colab.research.google.com/assets/colab-badge.svg\" alt=\"Open In Colab\"/></a>"
      ]
    },
    {
      "cell_type": "markdown",
      "source": [
        "사용자로부터 2개의 정수를 받아서 합계를 출력"
      ],
      "metadata": {
        "id": "E76d9eE7SCzm"
      }
    },
    {
      "cell_type": "code",
      "source": [
        "print(\"정수 2개를 입력하시오 : \")\n",
        "x = int(input(\"x값을 입력하시오. : \"))\n",
        "y = int(input(\"y값을 입력하시오. : \"))\n",
        "sum = x + y\n",
        "print(sum)\n",
        "print(f'{x} + {y}의 값은 {sum}이다.')"
      ],
      "metadata": {
        "colab": {
          "base_uri": "https://localhost:8080/"
        },
        "id": "bQQpdqWRXqcl",
        "outputId": "b76bfee0-cd3d-4846-9548-edd1c8d2ecea"
      },
      "execution_count": 2,
      "outputs": [
        {
          "output_type": "stream",
          "name": "stdout",
          "text": [
            "정수 2개를 입력하시오 : \n",
            "x값을 입력하시오. : 2\n",
            "y값을 입력하시오. : 4\n",
            "6\n",
            "2 + 4의 값은 6이다.\n"
          ]
        }
      ]
    },
    {
      "cell_type": "markdown",
      "source": [
        "부가세 계산"
      ],
      "metadata": {
        "id": "Q6J1HIiNT2LC"
      }
    },
    {
      "cell_type": "code",
      "source": [
        "print(\"상품의 가격을 입력하시오\")\n",
        "price= int(input(\"상품의 가격:\"))\n",
        "vat= price*0.1\n",
        "print(vat)"
      ],
      "metadata": {
        "colab": {
          "base_uri": "https://localhost:8080/"
        },
        "id": "tMVBGJ_YT4DF",
        "outputId": "c0960afe-020c-41ad-baa0-689a6f225e4e"
      },
      "execution_count": null,
      "outputs": [
        {
          "output_type": "stream",
          "name": "stdout",
          "text": [
            "상품의 가격을 입력하시오\n",
            "상품의 가격:5000\n",
            "500.0\n"
          ]
        }
      ]
    }
  ]
}