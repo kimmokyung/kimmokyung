{
  "nbformat": 4,
  "nbformat_minor": 0,
  "metadata": {
    "colab": {
      "provenance": [],
      "authorship_tag": "ABX9TyM74NWMeW7wuGx6n6apqVq2",
      "include_colab_link": true
    },
    "kernelspec": {
      "name": "python3",
      "display_name": "Python 3"
    },
    "language_info": {
      "name": "python"
    }
  },
  "cells": [
    {
      "cell_type": "markdown",
      "metadata": {
        "id": "view-in-github",
        "colab_type": "text"
      },
      "source": [
        "<a href=\"https://colab.research.google.com/github/kimmokyung/kimmokyung/blob/main/Untitled8.ipynb\" target=\"_parent\"><img src=\"https://colab.research.google.com/assets/colab-badge.svg\" alt=\"Open In Colab\"/></a>"
      ]
    },
    {
      "cell_type": "markdown",
      "source": [
        "사용자로부터 2개의 정수를 받아서 합계를 출력"
      ],
      "metadata": {
        "id": "E76d9eE7SCzm"
      }
    },
    {
      "cell_type": "code",
      "source": [
        "print(\"정수 2개를 입력하시오 : \")                                               # 사용자에게 \"정수 2개를 입력하시오 :\"라는 안내 메시지를 출력합니다.\n",
        "x = int(input(\"x값을 입력하시오. : \"))                                          # x = int(input(\"x값을 입력하시오. : \"))를 통해 사용자로부터 x값을 입력받고, 입력받은 값을 int() 함수를 사용하여 정수형으로 변환하여 x 변수에 저장합니다.\n",
        "y = int(input(\"y값을 입력하시오. : \"))                                          # y = int(input(\"y값을 입력하시오. : \"))를 통해 사용자로부터 y값을 입력받고, 입력받은 값을 int() 함수를 사용하여 정수형으로 변환하여 y 변수에 저장합니다.\n",
        "sum = x + y                                                                     # sum = x + y를 통해 x와 y의 합을 계산하고, sum 변수에 저장합니다.\n",
        "print(sum)                                                                      # print(sum)을 사용하여 계산된 합을 출력합니다.\n",
        "print(f'{x} + {y}의 값은 {sum}이다.')                                           # x와 y의 값을 포함한 계산식과 합을 출력합니다."
      ],
      "metadata": {
        "colab": {
          "base_uri": "https://localhost:8080/"
        },
        "id": "bQQpdqWRXqcl",
        "outputId": "b76bfee0-cd3d-4846-9548-edd1c8d2ecea"
      },
      "execution_count": null,
      "outputs": [
        {
          "output_type": "stream",
          "name": "stdout",
          "text": [
            "정수 2개를 입력하시오 : \n"
          ]
        }
      ]
    },
    {
      "cell_type": "markdown",
      "source": [
        "위 코드는 input() 함수를 사용하여 사용자로부터 정수를 입력받습니다. 입력받은 값을 활용하여 두 정수의 합을 계산하고, print() 함수를 사용하여 계산된 합을 출력합니다.\n",
        "\n",
        "print(\"정수 2개를 입력하시오 : \")를 사용하여 사용자에게 \"정수 2개를 입력하시오 :\"라는 안내 메시지를 출력합니다.\n",
        "x = int(input(\"x값을 입력하시오. : \"))를 통해 사용자로부터 x값을 입력받고, 입력받은 값을 int() 함수를 사용하여 정수형으로 변환하여 x 변수에 저장합니다.\n",
        "y = int(input(\"y값을 입력하시오. : \"))를 통해 사용자로부터 y값을 입력받고, 입력받은 값을 int() 함수를 사용하여 정수형으로 변환하여 y 변수에 저장합니다.\n",
        "sum = x + y를 통해 x와 y의 합을 계산하고, sum 변수에 저장합니다.\n",
        "print(sum)을 사용하여 계산된 합을 출력합니다.\n",
        "print(f'{x} + {y}의 값은 {sum}이다.')를 사용하여 x와 y의 값을 포함한 계산식과 합을 출력합니다."
      ],
      "metadata": {
        "id": "FaR0yJNOu5hO"
      }
    },
    {
      "cell_type": "markdown",
      "source": [
        "부가세 계산"
      ],
      "metadata": {
        "id": "Q6J1HIiNT2LC"
      }
    },
    {
      "cell_type": "code",
      "source": [
        "print(\"상품의 가격을 입력하시오\")                                               # 사용자에게 \"상품의 가격을 입력하시오\"라는 안내 메시지를 출력합니다.\n",
        "price= int(input(\"상품의 가격:\"))                                               # 사용자로부터 상품의 가격을 입력받고, 입력받은 값을 int() 함수를 사용하여 정수형으로 변환하여 price 변수에 저장합니다.\n",
        "vat= price*0.1                                                                  # 입력받은 가격에 0.1을 곱하여 부가가치세를 계산하고, vat 변수에 저장합니다.\n",
        "print(vat)                                                                      # 계산된 부가가치세를 출력합니다."
      ],
      "metadata": {
        "colab": {
          "base_uri": "https://localhost:8080/"
        },
        "id": "tMVBGJ_YT4DF",
        "outputId": "c0960afe-020c-41ad-baa0-689a6f225e4e"
      },
      "execution_count": null,
      "outputs": [
        {
          "output_type": "stream",
          "name": "stdout",
          "text": [
            "상품의 가격을 입력하시오\n",
            "상품의 가격:5000\n",
            "500.0\n"
          ]
        }
      ]
    },
    {
      "cell_type": "markdown",
      "source": [
        "위 코드는 input() 함수를 사용하여 사용자로부터 상품의 가격을 입력받습니다. 입력받은 값을 활용하여 부가가치세를 계산하고, print() 함수를 사용하여 계산된 부가가치세를 출력합니다.\n",
        "\n",
        "print(\"상품의 가격을 입력하시오\")를 사용하여 사용자에게 \"상품의 가격을 입력하시오\"라는 안내 메시지를 출력합니다.\n",
        "price = int(input(\"상품의 가격: \"))를 통해 사용자로부터 상품의 가격을 입력받고, 입력받은 값을 int() 함수를 사용하여 정수형으로 변환하여 price 변수에 저장합니다.\n",
        "vat = price * 0.1을 통해 입력받은 가격에 0.1을 곱하여 부가가치세를 계산하고, vat 변수에 저장합니다.\n",
        "print(vat)을 사용하여 계산된 부가가치세를 출력합니다."
      ],
      "metadata": {
        "id": "65itaJKjvVJ-"
      }
    }
  ]
}